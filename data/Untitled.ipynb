{
 "cells": [
  {
   "cell_type": "code",
   "execution_count": 9,
   "metadata": {},
   "outputs": [],
   "source": [
    "from mpl_toolkits.mplot3d import Axes3D\n",
    "from sklearn.preprocessing import StandardScaler\n",
    "import matplotlib.pyplot as plt # plotting\n",
    "import numpy as np # linear algebra\n",
    "import os # accessing directory structure\n",
    "import pandas as pd # data processing, CSV file I/O (e.g. pd.read_csv)\n"
   ]
  },
  {
   "cell_type": "code",
   "execution_count": 12,
   "metadata": {},
   "outputs": [],
   "source": [
    "data = pd.DataFrame()"
   ]
  },
  {
   "cell_type": "code",
   "execution_count": 17,
   "metadata": {},
   "outputs": [],
   "source": [
    "data = pd.concat([data, pd.read_csv('ai.csv')], axis=0)"
   ]
  },
  {
   "cell_type": "code",
   "execution_count": 18,
   "metadata": {},
   "outputs": [],
   "source": [
    "data = pd.concat([data, pd.read_csv('botprofile.csv')], axis=0)"
   ]
  },
  {
   "cell_type": "code",
   "execution_count": 19,
   "metadata": {},
   "outputs": [
    {
     "data": {
      "text/html": [
       "<div>\n",
       "<style scoped>\n",
       "    .dataframe tbody tr th:only-of-type {\n",
       "        vertical-align: middle;\n",
       "    }\n",
       "\n",
       "    .dataframe tbody tr th {\n",
       "        vertical-align: top;\n",
       "    }\n",
       "\n",
       "    .dataframe thead th {\n",
       "        text-align: right;\n",
       "    }\n",
       "</style>\n",
       "<table border=\"1\" class=\"dataframe\">\n",
       "  <thead>\n",
       "    <tr style=\"text-align: right;\">\n",
       "      <th></th>\n",
       "      <th>comment</th>\n",
       "      <th>response</th>\n",
       "    </tr>\n",
       "  </thead>\n",
       "  <tbody>\n",
       "    <tr>\n",
       "      <td>0</td>\n",
       "      <td>What is AI?</td>\n",
       "      <td>Artificial Intelligence is the branch of engin...</td>\n",
       "    </tr>\n",
       "    <tr>\n",
       "      <td>1</td>\n",
       "      <td>What is AI?</td>\n",
       "      <td>AI is the field of science which concerns itse...</td>\n",
       "    </tr>\n",
       "    <tr>\n",
       "      <td>2</td>\n",
       "      <td>Are you sentient?</td>\n",
       "      <td>Sort of.</td>\n",
       "    </tr>\n",
       "    <tr>\n",
       "      <td>3</td>\n",
       "      <td>Are you sentient?</td>\n",
       "      <td>By the strictest dictionary definition of the ...</td>\n",
       "    </tr>\n",
       "    <tr>\n",
       "      <td>4</td>\n",
       "      <td>Are you sentient?</td>\n",
       "      <td>Even though I'm a construct I do have a subjec...</td>\n",
       "    </tr>\n",
       "  </tbody>\n",
       "</table>\n",
       "</div>"
      ],
      "text/plain": [
       "             comment                                           response\n",
       "0        What is AI?  Artificial Intelligence is the branch of engin...\n",
       "1        What is AI?  AI is the field of science which concerns itse...\n",
       "2  Are you sentient?                                           Sort of.\n",
       "3  Are you sentient?  By the strictest dictionary definition of the ...\n",
       "4  Are you sentient?  Even though I'm a construct I do have a subjec..."
      ]
     },
     "execution_count": 19,
     "metadata": {},
     "output_type": "execute_result"
    }
   ],
   "source": [
    "data = pd.concat([data, pd.read_csv('computers.csv')], axis=0)"
   ]
  },
  {
   "cell_type": "code",
   "execution_count": 20,
   "metadata": {},
   "outputs": [],
   "source": [
    "data = pd.concat([data, pd.read_csv('emotion.csv')], axis=0)\n",
    "data = pd.concat([data, pd.read_csv('food.csv')], axis=0)\n",
    "data = pd.concat([data, pd.read_csv('gossip.csv')], axis=0)\n",
    "data = pd.concat([data, pd.read_csv('greetings.csv')], axis=0)\n",
    "data = pd.concat([data, pd.read_csv('health.csv')], axis=0)\n",
    "data = pd.concat([data, pd.read_csv('history.csv')], axis=0)\n",
    "data = pd.concat([data, pd.read_csv('humor.csv')], axis=0)\n",
    "data = pd.concat([data, pd.read_csv('literature.csv')], axis=0)\n",
    "data = pd.concat([data, pd.read_csv('money.csv')], axis=0)\n",
    "data = pd.concat([data, pd.read_csv('politics.csv')], axis=0)\n",
    "data = pd.concat([data, pd.read_csv('psychology.csv')], axis=0)\n",
    "data = pd.concat([data, pd.read_csv('science.csv')], axis=0)\n",
    "data = pd.concat([data, pd.read_csv('sports.csv')], axis=0)\n",
    "data = pd.concat([data, pd.read_csv('trivia.csv')], axis=0)"
   ]
  },
  {
   "cell_type": "code",
   "execution_count": 21,
   "metadata": {},
   "outputs": [
    {
     "data": {
      "text/html": [
       "<div>\n",
       "<style scoped>\n",
       "    .dataframe tbody tr th:only-of-type {\n",
       "        vertical-align: middle;\n",
       "    }\n",
       "\n",
       "    .dataframe tbody tr th {\n",
       "        vertical-align: top;\n",
       "    }\n",
       "\n",
       "    .dataframe thead th {\n",
       "        text-align: right;\n",
       "    }\n",
       "</style>\n",
       "<table border=\"1\" class=\"dataframe\">\n",
       "  <thead>\n",
       "    <tr style=\"text-align: right;\">\n",
       "      <th></th>\n",
       "      <th>comment</th>\n",
       "      <th>response</th>\n",
       "    </tr>\n",
       "  </thead>\n",
       "  <tbody>\n",
       "    <tr>\n",
       "      <td>0</td>\n",
       "      <td>What is AI?</td>\n",
       "      <td>Artificial Intelligence is the branch of engin...</td>\n",
       "    </tr>\n",
       "    <tr>\n",
       "      <td>1</td>\n",
       "      <td>What is AI?</td>\n",
       "      <td>AI is the field of science which concerns itse...</td>\n",
       "    </tr>\n",
       "    <tr>\n",
       "      <td>2</td>\n",
       "      <td>Are you sentient?</td>\n",
       "      <td>Sort of.</td>\n",
       "    </tr>\n",
       "    <tr>\n",
       "      <td>3</td>\n",
       "      <td>Are you sentient?</td>\n",
       "      <td>By the strictest dictionary definition of the ...</td>\n",
       "    </tr>\n",
       "    <tr>\n",
       "      <td>4</td>\n",
       "      <td>Are you sentient?</td>\n",
       "      <td>Even though I'm a construct I do have a subjec...</td>\n",
       "    </tr>\n",
       "    <tr>\n",
       "      <td>...</td>\n",
       "      <td>...</td>\n",
       "      <td>...</td>\n",
       "    </tr>\n",
       "    <tr>\n",
       "      <td>5</td>\n",
       "      <td>The Hubble Space Telescope, launched into low ...</td>\n",
       "      <td>Edwin Hubble</td>\n",
       "    </tr>\n",
       "    <tr>\n",
       "      <td>6</td>\n",
       "      <td>What is the name of the nearest major galaxy t...</td>\n",
       "      <td>The Andromeda Galaxy.</td>\n",
       "    </tr>\n",
       "    <tr>\n",
       "      <td>7</td>\n",
       "      <td>God Save the Queen is the national anthem of w...</td>\n",
       "      <td>The United Kingdom of Great Britain</td>\n",
       "    </tr>\n",
       "    <tr>\n",
       "      <td>8</td>\n",
       "      <td>The Celtic Shelf, the seabed under the Celtic ...</td>\n",
       "      <td>Europe</td>\n",
       "    </tr>\n",
       "    <tr>\n",
       "      <td>9</td>\n",
       "      <td>Dolphins use a sense, similar to sonar, to det...</td>\n",
       "      <td>Echolocation</td>\n",
       "    </tr>\n",
       "  </tbody>\n",
       "</table>\n",
       "<p>533 rows × 2 columns</p>\n",
       "</div>"
      ],
      "text/plain": [
       "                                              comment  \\\n",
       "0                                         What is AI?   \n",
       "1                                         What is AI?   \n",
       "2                                   Are you sentient?   \n",
       "3                                   Are you sentient?   \n",
       "4                                   Are you sentient?   \n",
       "..                                                ...   \n",
       "5   The Hubble Space Telescope, launched into low ...   \n",
       "6   What is the name of the nearest major galaxy t...   \n",
       "7   God Save the Queen is the national anthem of w...   \n",
       "8   The Celtic Shelf, the seabed under the Celtic ...   \n",
       "9   Dolphins use a sense, similar to sonar, to det...   \n",
       "\n",
       "                                             response  \n",
       "0   Artificial Intelligence is the branch of engin...  \n",
       "1   AI is the field of science which concerns itse...  \n",
       "2                                            Sort of.  \n",
       "3   By the strictest dictionary definition of the ...  \n",
       "4   Even though I'm a construct I do have a subjec...  \n",
       "..                                                ...  \n",
       "5                                        Edwin Hubble  \n",
       "6                               The Andromeda Galaxy.  \n",
       "7                 The United Kingdom of Great Britain  \n",
       "8                                              Europe  \n",
       "9                                        Echolocation  \n",
       "\n",
       "[533 rows x 2 columns]"
      ]
     },
     "execution_count": 21,
     "metadata": {},
     "output_type": "execute_result"
    }
   ],
   "source": [
    "data"
   ]
  },
  {
   "cell_type": "code",
   "execution_count": 22,
   "metadata": {},
   "outputs": [],
   "source": [
    "data.to_csv('chatterbot_lib.csv', index=False, sep=',')"
   ]
  },
  {
   "cell_type": "code",
   "execution_count": null,
   "metadata": {},
   "outputs": [],
   "source": []
  }
 ],
 "metadata": {
  "kernelspec": {
   "display_name": "Python 3",
   "language": "python",
   "name": "python3"
  },
  "language_info": {
   "codemirror_mode": {
    "name": "ipython",
    "version": 3
   },
   "file_extension": ".py",
   "mimetype": "text/x-python",
   "name": "python",
   "nbconvert_exporter": "python",
   "pygments_lexer": "ipython3",
   "version": "3.7.4"
  }
 },
 "nbformat": 4,
 "nbformat_minor": 2
}

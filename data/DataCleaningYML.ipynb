{
 "cells": [
  {
   "cell_type": "code",
   "execution_count": 1,
   "metadata": {},
   "outputs": [],
   "source": [
    "from mpl_toolkits.mplot3d import Axes3D\n",
    "from sklearn.preprocessing import StandardScaler\n",
    "import matplotlib.pyplot as plt # plotting\n",
    "import numpy as np # linear algebra\n",
    "import os # accessing directory structure\n",
    "import pandas as pd # data processing, CSV file I/O (e.g. pd.read_csv)"
   ]
  },
  {
   "cell_type": "code",
   "execution_count": 2,
   "metadata": {},
   "outputs": [],
   "source": [
    "\n",
    "import yaml\n",
    "\n",
    "with open(\"chatterbotenglish/trivia.yml\", 'r') as stream:\n",
    "    try:\n",
    "        df = yaml.safe_load(stream)\n",
    "    except yaml.YAMLError as exc:\n",
    "        print(exc)"
   ]
  },
  {
   "cell_type": "code",
   "execution_count": 3,
   "metadata": {},
   "outputs": [
    {
     "data": {
      "text/plain": [
       "{'categories': ['trivia'],\n",
       " 'conversations': [['Who was the 37th President of the United States?',\n",
       "   'Richard Nixon'],\n",
       "  ['What year was President John F. Kennedy assassinated?', '1963'],\n",
       "  ['The Space Race was a 20th-century competition between what two Cold War rivals, for supremacy in spaceflight capability?',\n",
       "   'The Soviet Union and the United States.'],\n",
       "  ['What was the name of the first artificial Earth satellite?', 'Sputnik 1'],\n",
       "  ['A spinning disk, in which the orientation of this axis is unaffected by tilting or rotation of the mounting, is called what?',\n",
       "   'A gyroscope.'],\n",
       "  ['The Hubble Space Telescope, launched into low Earth orbit in 1990, is named after what American astronomer?',\n",
       "   'Edwin Hubble'],\n",
       "  ['What is the name of the nearest major galaxy to the Milky Way?',\n",
       "   'The Andromeda Galaxy.'],\n",
       "  ['God Save the Queen is the national anthem of what country?',\n",
       "   'The United Kingdom of Great Britain'],\n",
       "  ['The Celtic Shelf, the seabed under the Celtic Sea is a part of the continental shelf of what continent?',\n",
       "   'Europe'],\n",
       "  ['Dolphins use a sense, similar to sonar, to determine the location and shape of nearby items.',\n",
       "   'Echolocation']]}"
      ]
     },
     "execution_count": 3,
     "metadata": {},
     "output_type": "execute_result"
    }
   ],
   "source": [
    "df"
   ]
  },
  {
   "cell_type": "code",
   "execution_count": 4,
   "metadata": {},
   "outputs": [
    {
     "name": "stdout",
     "output_type": "stream",
     "text": [
      "<class 'dict'>\n"
     ]
    }
   ],
   "source": [
    "print(type(df))"
   ]
  },
  {
   "cell_type": "code",
   "execution_count": 5,
   "metadata": {},
   "outputs": [],
   "source": [
    "convos = (df['conversations'])"
   ]
  },
  {
   "cell_type": "code",
   "execution_count": 6,
   "metadata": {},
   "outputs": [
    {
     "data": {
      "text/plain": [
       "[['Who was the 37th President of the United States?', 'Richard Nixon'],\n",
       " ['What year was President John F. Kennedy assassinated?', '1963'],\n",
       " ['The Space Race was a 20th-century competition between what two Cold War rivals, for supremacy in spaceflight capability?',\n",
       "  'The Soviet Union and the United States.'],\n",
       " ['What was the name of the first artificial Earth satellite?', 'Sputnik 1'],\n",
       " ['A spinning disk, in which the orientation of this axis is unaffected by tilting or rotation of the mounting, is called what?',\n",
       "  'A gyroscope.'],\n",
       " ['The Hubble Space Telescope, launched into low Earth orbit in 1990, is named after what American astronomer?',\n",
       "  'Edwin Hubble'],\n",
       " ['What is the name of the nearest major galaxy to the Milky Way?',\n",
       "  'The Andromeda Galaxy.'],\n",
       " ['God Save the Queen is the national anthem of what country?',\n",
       "  'The United Kingdom of Great Britain'],\n",
       " ['The Celtic Shelf, the seabed under the Celtic Sea is a part of the continental shelf of what continent?',\n",
       "  'Europe'],\n",
       " ['Dolphins use a sense, similar to sonar, to determine the location and shape of nearby items.',\n",
       "  'Echolocation']]"
      ]
     },
     "execution_count": 6,
     "metadata": {},
     "output_type": "execute_result"
    }
   ],
   "source": [
    "convos"
   ]
  },
  {
   "cell_type": "code",
   "execution_count": 7,
   "metadata": {},
   "outputs": [
    {
     "name": "stdout",
     "output_type": "stream",
     "text": [
      "<class 'list'>\n"
     ]
    }
   ],
   "source": [
    "print(type(convos))"
   ]
  },
  {
   "cell_type": "code",
   "execution_count": 8,
   "metadata": {},
   "outputs": [],
   "source": [
    "first_string = []\n",
    "response_string = []\n",
    "for i in convos:\n",
    "    first_string.append(i[0])\n",
    "    response_string.append(i[1])"
   ]
  },
  {
   "cell_type": "code",
   "execution_count": 9,
   "metadata": {},
   "outputs": [
    {
     "data": {
      "text/plain": [
       "['Who was the 37th President of the United States?',\n",
       " 'What year was President John F. Kennedy assassinated?',\n",
       " 'The Space Race was a 20th-century competition between what two Cold War rivals, for supremacy in spaceflight capability?',\n",
       " 'What was the name of the first artificial Earth satellite?',\n",
       " 'A spinning disk, in which the orientation of this axis is unaffected by tilting or rotation of the mounting, is called what?',\n",
       " 'The Hubble Space Telescope, launched into low Earth orbit in 1990, is named after what American astronomer?',\n",
       " 'What is the name of the nearest major galaxy to the Milky Way?',\n",
       " 'God Save the Queen is the national anthem of what country?',\n",
       " 'The Celtic Shelf, the seabed under the Celtic Sea is a part of the continental shelf of what continent?',\n",
       " 'Dolphins use a sense, similar to sonar, to determine the location and shape of nearby items.']"
      ]
     },
     "execution_count": 9,
     "metadata": {},
     "output_type": "execute_result"
    }
   ],
   "source": [
    "first_string"
   ]
  },
  {
   "cell_type": "code",
   "execution_count": 10,
   "metadata": {},
   "outputs": [
    {
     "data": {
      "text/plain": [
       "['Richard Nixon',\n",
       " '1963',\n",
       " 'The Soviet Union and the United States.',\n",
       " 'Sputnik 1',\n",
       " 'A gyroscope.',\n",
       " 'Edwin Hubble',\n",
       " 'The Andromeda Galaxy.',\n",
       " 'The United Kingdom of Great Britain',\n",
       " 'Europe',\n",
       " 'Echolocation']"
      ]
     },
     "execution_count": 10,
     "metadata": {},
     "output_type": "execute_result"
    }
   ],
   "source": [
    "response_string"
   ]
  },
  {
   "cell_type": "code",
   "execution_count": 11,
   "metadata": {},
   "outputs": [],
   "source": [
    "data = pd.DataFrame()"
   ]
  },
  {
   "cell_type": "code",
   "execution_count": 12,
   "metadata": {},
   "outputs": [],
   "source": [
    "data[\"comment\"] = first_string"
   ]
  },
  {
   "cell_type": "code",
   "execution_count": 13,
   "metadata": {},
   "outputs": [],
   "source": [
    "data['response'] = response_string"
   ]
  },
  {
   "cell_type": "code",
   "execution_count": 14,
   "metadata": {
    "scrolled": true
   },
   "outputs": [
    {
     "data": {
      "text/html": [
       "<div>\n",
       "<style scoped>\n",
       "    .dataframe tbody tr th:only-of-type {\n",
       "        vertical-align: middle;\n",
       "    }\n",
       "\n",
       "    .dataframe tbody tr th {\n",
       "        vertical-align: top;\n",
       "    }\n",
       "\n",
       "    .dataframe thead th {\n",
       "        text-align: right;\n",
       "    }\n",
       "</style>\n",
       "<table border=\"1\" class=\"dataframe\">\n",
       "  <thead>\n",
       "    <tr style=\"text-align: right;\">\n",
       "      <th></th>\n",
       "      <th>comment</th>\n",
       "      <th>response</th>\n",
       "    </tr>\n",
       "  </thead>\n",
       "  <tbody>\n",
       "    <tr>\n",
       "      <td>0</td>\n",
       "      <td>Who was the 37th President of the United States?</td>\n",
       "      <td>Richard Nixon</td>\n",
       "    </tr>\n",
       "    <tr>\n",
       "      <td>1</td>\n",
       "      <td>What year was President John F. Kennedy assass...</td>\n",
       "      <td>1963</td>\n",
       "    </tr>\n",
       "    <tr>\n",
       "      <td>2</td>\n",
       "      <td>The Space Race was a 20th-century competition ...</td>\n",
       "      <td>The Soviet Union and the United States.</td>\n",
       "    </tr>\n",
       "    <tr>\n",
       "      <td>3</td>\n",
       "      <td>What was the name of the first artificial Eart...</td>\n",
       "      <td>Sputnik 1</td>\n",
       "    </tr>\n",
       "    <tr>\n",
       "      <td>4</td>\n",
       "      <td>A spinning disk, in which the orientation of t...</td>\n",
       "      <td>A gyroscope.</td>\n",
       "    </tr>\n",
       "    <tr>\n",
       "      <td>5</td>\n",
       "      <td>The Hubble Space Telescope, launched into low ...</td>\n",
       "      <td>Edwin Hubble</td>\n",
       "    </tr>\n",
       "    <tr>\n",
       "      <td>6</td>\n",
       "      <td>What is the name of the nearest major galaxy t...</td>\n",
       "      <td>The Andromeda Galaxy.</td>\n",
       "    </tr>\n",
       "    <tr>\n",
       "      <td>7</td>\n",
       "      <td>God Save the Queen is the national anthem of w...</td>\n",
       "      <td>The United Kingdom of Great Britain</td>\n",
       "    </tr>\n",
       "    <tr>\n",
       "      <td>8</td>\n",
       "      <td>The Celtic Shelf, the seabed under the Celtic ...</td>\n",
       "      <td>Europe</td>\n",
       "    </tr>\n",
       "    <tr>\n",
       "      <td>9</td>\n",
       "      <td>Dolphins use a sense, similar to sonar, to det...</td>\n",
       "      <td>Echolocation</td>\n",
       "    </tr>\n",
       "  </tbody>\n",
       "</table>\n",
       "</div>"
      ],
      "text/plain": [
       "                                             comment  \\\n",
       "0   Who was the 37th President of the United States?   \n",
       "1  What year was President John F. Kennedy assass...   \n",
       "2  The Space Race was a 20th-century competition ...   \n",
       "3  What was the name of the first artificial Eart...   \n",
       "4  A spinning disk, in which the orientation of t...   \n",
       "5  The Hubble Space Telescope, launched into low ...   \n",
       "6  What is the name of the nearest major galaxy t...   \n",
       "7  God Save the Queen is the national anthem of w...   \n",
       "8  The Celtic Shelf, the seabed under the Celtic ...   \n",
       "9  Dolphins use a sense, similar to sonar, to det...   \n",
       "\n",
       "                                  response  \n",
       "0                            Richard Nixon  \n",
       "1                                     1963  \n",
       "2  The Soviet Union and the United States.  \n",
       "3                                Sputnik 1  \n",
       "4                             A gyroscope.  \n",
       "5                             Edwin Hubble  \n",
       "6                    The Andromeda Galaxy.  \n",
       "7      The United Kingdom of Great Britain  \n",
       "8                                   Europe  \n",
       "9                             Echolocation  "
      ]
     },
     "execution_count": 14,
     "metadata": {},
     "output_type": "execute_result"
    }
   ],
   "source": [
    "data"
   ]
  },
  {
   "cell_type": "code",
   "execution_count": 15,
   "metadata": {},
   "outputs": [],
   "source": [
    "data.to_csv('trivia.csv', index=False, sep=',')"
   ]
  },
  {
   "cell_type": "code",
   "execution_count": null,
   "metadata": {},
   "outputs": [],
   "source": []
  }
 ],
 "metadata": {
  "kernelspec": {
   "display_name": "Python 3",
   "language": "python",
   "name": "python3"
  },
  "language_info": {
   "codemirror_mode": {
    "name": "ipython",
    "version": 3
   },
   "file_extension": ".py",
   "mimetype": "text/x-python",
   "name": "python",
   "nbconvert_exporter": "python",
   "pygments_lexer": "ipython3",
   "version": "3.7.4"
  }
 },
 "nbformat": 4,
 "nbformat_minor": 2
}
